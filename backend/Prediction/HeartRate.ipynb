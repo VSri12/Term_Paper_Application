{
 "cells": [
  {
   "cell_type": "code",
   "execution_count": null,
   "metadata": {},
   "outputs": [],
   "source": [
    "ptbdb_abnormal_df = pd.read_csv(\"/kaggle/input/heartbeat/ptbdb_abnormal.csv\", header=None)\n",
    "ptbdb_normal_df = pd.read_csv(\"/kaggle/input/heartbeat/ptbdb_normal.csv\", header=None)\n",
    "\n",
    "mitbih_train_df = pd.read_csv(\"/kaggle/input/heartbeat/mitbih_train.csv\", header=None)\n",
    "mitbih_test_df = pd.read_csv(\"/kaggle/input/heartbeat/mitbih_test.csv\", header=None)\n",
    "\n",
    "#mitbih_train_df.head()\n",
    "#mitbih_test_df.head()\n",
    "#ptbdb_abnormal_df.head()\n",
    "#ptbdb_normal_df.head()"
   ]
  },
  {
   "cell_type": "code",
   "execution_count": null,
   "metadata": {},
   "outputs": [],
   "source": [
    "# Check for null values in MIT-BIH datasets\n",
    "print(\"MIT-BIH Train - Null values:\\n\", mitbih_train_df.isnull().sum())\n",
    "print(\"MIT-BIH Test - Null values:\\n\", mitbih_test_df.isnull().sum())\n",
    "\n",
    "# Check for null values in PTBDB datasets\n",
    "print(\"PTBDB Abnormal - Null values:\\n\", ptbdb_abnormal_df.isnull().sum())\n",
    "print(\"PTBDB Normal - Null values:\\n\", ptbdb_normal_df.isnull().sum())"
   ]
  },
  {
   "cell_type": "code",
   "execution_count": null,
   "metadata": {},
   "outputs": [],
   "source": [
    "#Check for duplicates in MIT-BIH datasets\n",
    "print(\"MIT-BIH Train - Duplicates:\", mitbih_train_df.duplicated().sum())\n",
    "print(\"MIT-BIH Test - Duplicates:\", mitbih_test_df.duplicated().sum())\n",
    "\n",
    "# Check for duplicates in PTBDB datasets\n",
    "print(\"PTBDB Abnormal - Duplicates:\", ptbdb_abnormal_df.duplicated().sum())\n",
    "print(\"PTBDB Normal - Duplicates:\", ptbdb_normal_df.duplicated().sum())"
   ]
  },
  {
   "cell_type": "code",
   "execution_count": null,
   "metadata": {},
   "outputs": [],
   "source": [
    "print(\"MIT-BIH Train Shape:\", mitbih_train_df.shape)\n",
    "print(\"MIT-BIH Test Shape:\", mitbih_test_df.shape)\n",
    "print(\"PTBDB Abnormal Shape:\", ptbdb_abnormal_df.shape)\n",
    "print(\"PTBDB Normal Shape:\", ptbdb_normal_df.shape)"
   ]
  },
  {
   "cell_type": "code",
   "execution_count": null,
   "metadata": {},
   "outputs": [],
   "source": [
    "# MIT-BIH datasets\n",
    "X_mitbih_train = mitbih_train_df.iloc[:, :-1].values  # Features\n",
    "y_mitbih_train = mitbih_train_df.iloc[:, -1].values  # Labels\n",
    "\n",
    "X_mitbih_test = mitbih_test_df.iloc[:, :-1].values  # Features\n",
    "y_mitbih_test = mitbih_test_df.iloc[:, -1].values  # Labels\n",
    "\n",
    "# PTBDB datasets\n",
    "X_ptbdb_abnormal = ptbdb_abnormal_df.iloc[:, :-1].values  # Features\n",
    "y_ptbdb_abnormal = ptbdb_abnormal_df.iloc[:, -1].values  # Labels\n",
    "\n",
    "X_ptbdb_normal = ptbdb_normal_df.iloc[:, :-1].values  # Features\n",
    "y_ptbdb_normal = ptbdb_normal_df.iloc[:, -1].values  # Labels"
   ]
  },
  {
   "cell_type": "code",
   "execution_count": null,
   "metadata": {},
   "outputs": [],
   "source": [
    "import numpy as np\n",
    "import pandas as pd \n",
    "from sklearn.preprocessing import StandardScaler\n",
    "from sklearn.ensemble import RandomForestClassifier\n",
    "from sklearn.metrics import classification_report, confusion_matrix, accuracy_score\n",
    "import matplotlib.pyplot as plt\n",
    "import joblib\n",
    "import os\n",
    "\n",
    "# Load datasets\n",
    "ptb_abnormal = pd.read_csv(\"/kaggle/input/heartbeat/ptbdb_abnormal.csv\", header=None)\n",
    "ptb_normal = pd.read_csv(\"/kaggle/input/heartbeat/ptbdb_normal.csv\", header=None)\n",
    "mit_train = pd.read_csv(\"/kaggle/input/heartbeat/mitbih_train.csv\", header=None)\n",
    "mit_test = pd.read_csv(\"/kaggle/input/heartbeat/mitbih_test.csv\", header=None)\n",
    "\n",
    "# Check for null values and duplicates\n",
    "for name, df in zip([\"MIT Train\", \"MIT Test\", \"PTB Abnormal\", \"PTB Normal\"], [mit_train, mit_test, ptb_abnormal, ptb_normal]):\n",
    "    print(f\"{name} - Nulls: {df.isnull().sum().sum()}, Duplicates: {df.duplicated().sum()}\")\n",
    "\n",
    "# Extract features and labels\n",
    "X_mit_train, y_mit_train = mit_train.iloc[:, :-1].values, mit_train.iloc[:, -1].values\n",
    "X_mit_test, y_mit_test = mit_test.iloc[:, :-1].values, mit_test.iloc[:, -1].values\n",
    "X_ptb_ab, y_ptb_ab = ptb_abnormal.iloc[:, :-1].values, ptb_abnormal.iloc[:, -1].values\n",
    "X_ptb_n, y_ptb_n = ptb_normal.iloc[:, :-1].values, ptb_normal.iloc[:, -1].values\n",
    "\n",
    "# Combine PTB datasets\n",
    "X_ptb, y_ptb = np.vstack((X_ptb_ab, X_ptb_n)), np.hstack((y_ptb_ab, y_ptb_n))\n",
    "\n",
    "# Train Random Forest on MIT-BIH\n",
    "tree_mit = RandomForestClassifier(n_estimators=100, random_state=42)\n",
    "tree_mit.fit(X_mit_train, y_mit_train)\n",
    "\n",
    "# Evaluate MIT-BIH model\n",
    "y_mit_pred = tree_mit.predict(X_mit_test)\n",
    "print(\"MIT-BIH Accuracy:\", accuracy_score(y_mit_test, y_mit_pred))\n",
    "print(\"Confusion Matrix:\\n\", confusion_matrix(y_mit_test, y_mit_pred))\n",
    "print(\"Classification Report:\\n\", classification_report(y_mit_test, y_mit_pred))\n",
    "\n",
    "# Train Random Forest on PTBDB\n",
    "tree_ptb = RandomForestClassifier(n_estimators=100, random_state=42)\n",
    "tree_ptb.fit(X_ptb, y_ptb)\n",
    "\n",
    "# Evaluate PTBDB model\n",
    "y_ptb_pred = tree_ptb.predict(X_ptb)\n",
    "print(\"PTBDB Accuracy:\", accuracy_score(y_ptb, y_ptb_pred))\n",
    "print(\"Confusion Matrix:\\n\", confusion_matrix(y_ptb, y_ptb_pred))\n",
    "print(\"Classification Report:\\n\", classification_report(y_ptb, y_ptb_pred))\n",
    "\n",
    "# Feature importance\n",
    "plt.figure(figsize=(10, 6))\n",
    "plt.bar(range(X_mit_train.shape[1]), tree_mit.feature_importances_)\n",
    "plt.title(\"MIT-BIH Feature Importance\")\n",
    "plt.xlabel(\"Feature Index\")\n",
    "plt.ylabel(\"Importance\")\n",
    "plt.show()\n",
    "\n",
    "plt.figure(figsize=(10, 6))\n",
    "plt.bar(range(X_ptb.shape[1]), tree_ptb.feature_importances_)\n",
    "plt.title(\"PTBDB Feature Importance\")\n",
    "plt.xlabel(\"Feature Index\")\n",
    "plt.ylabel(\"Importance\")\n",
    "plt.show()\n",
    "\n",
    "# Save models\n",
    "joblib.dump(tree_mit, \"rf_mit_model.pkl\")\n",
    "joblib.dump(tree_ptb, \"rf_ptb_model.pkl\")\n"
   ]
  }
 ],
 "metadata": {
  "kernelspec": {
   "display_name": "Python 3",
   "language": "python",
   "name": "python3"
  },
  "language_info": {
   "name": "python",
   "version": "3.13.1"
  }
 },
 "nbformat": 4,
 "nbformat_minor": 2
}
